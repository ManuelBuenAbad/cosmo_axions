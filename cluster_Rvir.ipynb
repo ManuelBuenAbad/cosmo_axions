{
  "cells": [
    {
      "cell_type": "markdown",
      "source": [
        "# Computing Clusters' $R_{\\rm vir}$'s"
      ],
      "metadata": {
        "nteract": {
          "transient": {
            "deleting": false
          }
        }
      }
    },
    {
      "cell_type": "markdown",
      "source": [
        "## 1. Preamble"
      ],
      "metadata": {
        "nteract": {
          "transient": {
            "deleting": false
          }
        }
      }
    },
    {
      "cell_type": "code",
      "source": [
        "from __future__ import division\n",
        "\n",
        "import math\n",
        "\n",
        "import numpy as np\n",
        "from numpy.linalg import norm\n",
        "from numpy import pi, sqrt, log, log10, exp, power\n",
        "\n",
        "from scipy.optimize import fsolve\n",
        "\n",
        "import os"
      ],
      "outputs": [],
      "execution_count": 1,
      "metadata": {
        "collapsed": true,
        "execution": {
          "iopub.execute_input": "2020-11-18T19:08:19.890Z",
          "iopub.status.busy": "2020-11-18T19:08:19.865Z",
          "iopub.status.idle": "2020-11-18T19:08:20.195Z",
          "shell.execute_reply": "2020-11-18T19:08:20.170Z"
        },
        "jupyter": {
          "outputs_hidden": false,
          "source_hidden": false
        },
        "nteract": {
          "transient": {
            "deleting": false
          }
        }
      }
    },
    {
      "cell_type": "code",
      "source": [
        "%config InlineBackend.figure_format = \"retina\"\n",
        "matplotlib.rcParams['figure.figsize'] = (13,8)"
      ],
      "outputs": [],
      "execution_count": 7,
      "metadata": {
        "collapsed": true,
        "execution": {
          "iopub.execute_input": "2020-11-18T15:20:47.130Z",
          "iopub.status.busy": "2020-11-18T15:20:47.121Z",
          "iopub.status.idle": "2020-11-18T15:20:47.143Z",
          "shell.execute_reply": "2020-11-18T15:20:47.151Z"
        },
        "jupyter": {
          "outputs_hidden": false,
          "source_hidden": false
        },
        "nteract": {
          "transient": {
            "deleting": false
          }
        }
      }
    },
    {
      "cell_type": "code",
      "source": [
        "data_path = './likelihoods/'"
      ],
      "outputs": [],
      "execution_count": 2,
      "metadata": {
        "collapsed": true,
        "execution": {
          "iopub.execute_input": "2020-11-18T19:08:28.872Z",
          "iopub.status.busy": "2020-11-18T19:08:28.860Z",
          "iopub.status.idle": "2020-11-18T19:08:28.889Z",
          "shell.execute_reply": "2020-11-18T19:08:28.900Z"
        },
        "jupyter": {
          "outputs_hidden": false,
          "source_hidden": false
        },
        "nteract": {
          "transient": {
            "deleting": false
          }
        }
      }
    },
    {
      "cell_type": "markdown",
      "source": [
        "## 2. Useful Constants and Functions"
      ],
      "metadata": {
        "nteract": {
          "transient": {
            "deleting": false
          }
        }
      }
    },
    {
      "cell_type": "code",
      "source": [
        "c0 = 299792458. # [m/s] speed of light\n",
        "Mpc_over_m = 3.085677581282e22 # Mpc/m conversion\n",
        "Mpc_over_cm = Mpc_over_m*100. # Mpc/cm conversion\n",
        "kpc_over_cm = Mpc_over_cm/1000. # kpc/cm conversion\n",
        "\n",
        "_rads_over_arcsec_ = (2.*pi)/(360.*60.*60.) # [rad/arcsec]\n",
        "\n",
        "hbarc = 197.32698045930252e-16 # [GeV*cm]\n",
        "GeV_times_cm = 1./hbarc # GeV*cm conversion\n",
        "Mpc_times_GeV = GeV_times_cm * Mpc_over_cm # Mpc*GeV conversion\n",
        "\n",
        "GeV_over_g = 1.78266192e-24"
      ],
      "outputs": [],
      "execution_count": 3,
      "metadata": {
        "collapsed": true,
        "execution": {
          "iopub.execute_input": "2020-11-18T19:08:31.014Z",
          "iopub.status.busy": "2020-11-18T19:08:31.002Z",
          "iopub.status.idle": "2020-11-18T19:08:31.038Z",
          "shell.execute_reply": "2020-11-18T19:08:31.052Z"
        },
        "jupyter": {
          "outputs_hidden": false,
          "source_hidden": false
        },
        "nteract": {
          "transient": {
            "deleting": false
          }
        }
      }
    },
    {
      "cell_type": "code",
      "source": [
        "def rho_bg(h, OmL, z):\n",
        "    \"\"\"\n",
        "    The background density [g/cm^3]\n",
        "    \"\"\"\n",
        "    \n",
        "    rho_crit_GeV4 = 8.0959*(h**2)*(10**-47)\n",
        "    rho_crit_gcm3 = rho_crit_GeV4 * (GeV_over_g * GeV_times_cm**3.)\n",
        "    \n",
        "    return rho_crit_gcm3*(OmL + (1.-OmL)*(1.+z)**3.)\n",
        "\n",
        "\n",
        "\n",
        "def nfw(rho0, rs, r):\n",
        "    \"\"\"\n",
        "    NFW density [g/cm^3]\n",
        "    \"\"\"\n",
        "    return rho0/((r/rs) * (1 + r/rs)**2)\n",
        "\n",
        "\n",
        "\n",
        "def mass(rho0, rs, r):\n",
        "    \"\"\"\n",
        "    DM cluster halo mass [g]\n",
        "    \"\"\"\n",
        "    \n",
        "    rs_cm = rs*kpc_over_cm\n",
        "    \n",
        "    return 4*pi*(rs_cm**3.)*rho0*(log(1+r/rs) + 1./(1+r/rs))\n",
        "\n",
        "\n",
        "\n",
        "def avg_dens(rho0, rs, r):\n",
        "    \"\"\"\n",
        "    Average DM halo density [g/cm^3]\n",
        "    \"\"\"\n",
        "    \n",
        "    r_cm = r*kpc_over_cm\n",
        "    \n",
        "    return mass(rho0, rs, r)/(4.*pi/3. * r_cm**3.)\n",
        "\n",
        "\n",
        "\n",
        "def Rvir(rho0, rs, rho_compare):\n",
        "    \"\"\"\n",
        "    Virial radius [kpc]\n",
        "    \"\"\"\n",
        "    \n",
        "    dens = lambda rr: avg_dens(rho0, rs, rr) - rho_compare\n",
        "    \n",
        "    return fsolve(dens, rs)"
      ],
      "outputs": [],
      "execution_count": 4,
      "metadata": {
        "collapsed": true,
        "jupyter": {
          "source_hidden": false,
          "outputs_hidden": false
        },
        "nteract": {
          "transient": {
            "deleting": false
          }
        },
        "execution": {
          "iopub.status.busy": "2020-11-18T19:08:33.853Z",
          "iopub.execute_input": "2020-11-18T19:08:33.869Z",
          "iopub.status.idle": "2020-11-18T19:08:33.888Z",
          "shell.execute_reply": "2020-11-18T19:08:33.899Z"
        }
      }
    },
    {
      "cell_type": "markdown",
      "source": [
        "## 3. Reading Data"
      ],
      "metadata": {
        "nteract": {
          "transient": {
            "deleting": false
          }
        }
      }
    },
    {
      "cell_type": "code",
      "source": [
        "names = []\n",
        "z_cls = np.array([])\n",
        "\n",
        "DA_cls = np.array([])\n",
        "\n",
        "ne0_cls = np.array([])\n",
        "beta_cls = np.array([])\n",
        "rc_out_cls = np.array([])\n",
        "f_cls = np.array([])\n",
        "rc_in_cls = np.array([])\n",
        "\n",
        "Ndm_cls = np.array([])\n",
        "rs_cls = np.array([])\n",
        "\n",
        "with open(data_path+'bonamente_add.txt', 'r') as filein:\n",
        "  for i, line in enumerate(filein):\n",
        "    if line.strip() and line.find('#') == -1:\n",
        "      this_line = line.split()\n",
        "      \n",
        "      names.append(this_line[0]+' '+this_line[1])\n",
        "      z_cls = np.append(z_cls, float(this_line[2]))\n",
        "      \n",
        "      DA_cls = np.append(DA_cls, float(this_line[3]))\n",
        "      \n",
        "      ne0_cls = np.append(ne0_cls, float(this_line[6]))\n",
        "      beta_cls = np.append(beta_cls, float(this_line[8]))\n",
        "      rc_out_cls = np.append(rc_out_cls, float(this_line[10]))\n",
        "      f_cls = np.append(f_cls, float(this_line[12]))\n",
        "      rc_in_cls = np.append(rc_in_cls, float(this_line[14]))\n",
        "      Ndm_cls = np.append(Ndm_cls, float(this_line[16]))\n",
        "      rs_cls = np.append(rs_cls, float(this_line[18]))\n",
        "\n",
        "rc_out_cls = (DA_cls*1.e3)*(_rads_over_arcsec_*rc_out_cls) # converting from arcsec to kpc\n",
        "rc_in_cls = (DA_cls*1.e3)*(_rads_over_arcsec_*rc_in_cls) # converting from arcsec to kpc\n",
        "\n",
        "rs_cls = (DA_cls*1.e3)*_rads_over_arcsec_ * rs_cls\n",
        "Ndm_cls *= 1.e-25"
      ],
      "outputs": [],
      "execution_count": 6,
      "metadata": {
        "collapsed": true,
        "jupyter": {
          "source_hidden": false,
          "outputs_hidden": false
        },
        "nteract": {
          "transient": {
            "deleting": false
          }
        },
        "execution": {
          "iopub.status.busy": "2020-11-18T19:08:50.092Z",
          "iopub.execute_input": "2020-11-18T19:08:50.103Z",
          "iopub.status.idle": "2020-11-18T19:08:50.120Z",
          "shell.execute_reply": "2020-11-18T19:08:50.130Z"
        }
      }
    },
    {
      "cell_type": "code",
      "source": [
        "print Ndm_cls\n",
        "print rs_cls"
      ],
      "outputs": [
        {
          "output_type": "stream",
          "name": "stdout",
          "text": [
            "[4.700e-26 9.200e-26 6.500e-26 1.780e-25 5.790e-25 1.020e-25 1.800e-26\n",
            " 2.680e-25 2.600e-26 1.220e-25 1.360e-25 4.700e-26 2.020e-25 3.040e-25\n",
            " 2.800e-26 3.290e-25 7.600e-26 1.730e-25 6.600e-26 7.000e-27 5.800e-26\n",
            " 1.630e-25 4.100e-26 4.570e-25 6.600e-26 7.590e-25 1.000e-26 7.400e-26\n",
            " 1.830e-25 2.700e-26 6.050e-25 2.600e-26 1.201e-24 2.700e-26 1.730e-25\n",
            " 3.400e-26 4.000e-27 4.090e-25]\n",
            "[ 457.56715223  354.88361457  396.48062841  257.14517646  172.78759595\n",
            "  351.97473249 1087.92190041  236.34666954  983.20214529  256.56340004\n",
            "  240.6615113   533.68290017  218.1661565   187.33200638  778.12595818\n",
            "  213.80283337  396.77151662  242.01898961  486.89837994 2071.17252707\n",
            "  493.05551369  267.03537556  597.38741786  218.74793292  446.80428851\n",
            "  127.11814719 1505.34647985  426.63603938  238.382887    757.27896989\n",
            "  128.96043918  480.93517166  134.3903524   765.61776521  221.07503859\n",
            "  736.1410934  4294.38262453  240.85543678]\n"
          ]
        }
      ],
      "execution_count": 8,
      "metadata": {
        "collapsed": true,
        "jupyter": {
          "source_hidden": false,
          "outputs_hidden": false
        },
        "nteract": {
          "transient": {
            "deleting": false
          }
        },
        "execution": {
          "iopub.status.busy": "2020-11-18T19:08:57.264Z",
          "iopub.execute_input": "2020-11-18T19:08:57.275Z",
          "iopub.status.idle": "2020-11-18T19:08:57.297Z",
          "shell.execute_reply": "2020-11-18T19:08:57.307Z"
        }
      }
    },
    {
      "cell_type": "code",
      "source": [
        "h_early = 0.69\n",
        "h_late = 0.74\n",
        "h_mean = (h_early + h_late)/2.\n",
        "OmL = 0.69\n",
        "bigger = 200. # the virial radius is defined where the cluster mean density is 200 times bigger than the background density\n",
        "\n",
        "Rvirs_cls = np.array([])\n",
        "\n",
        "for i, name in enumerate(names):\n",
        "    rvir = Rvir(Ndm_cls[i], rs_cls[i], bigger*rho_bg(h_mean, OmL, z_cls[i]))[0]\n",
        "    rvir_arcsec = rvir/(DA_cls[i]*1.e3 *_rads_over_arcsec_)\n",
        "    \n",
        "    Rvirs_cls = np.append(Rvirs_cls, rvir_arcsec)"
      ],
      "outputs": [],
      "execution_count": 21,
      "metadata": {
        "collapsed": true,
        "jupyter": {
          "source_hidden": false,
          "outputs_hidden": false
        },
        "nteract": {
          "transient": {
            "deleting": false
          }
        },
        "execution": {
          "iopub.status.busy": "2020-11-18T19:13:00.170Z",
          "iopub.execute_input": "2020-11-18T19:13:00.181Z",
          "iopub.status.idle": "2020-11-18T19:13:00.201Z",
          "shell.execute_reply": "2020-11-18T19:13:00.220Z"
        }
      }
    },
    {
      "cell_type": "code",
      "source": [
        "Rvirs_cls * (DA_cls*1.e3 *_rads_over_arcsec_)"
      ],
      "outputs": [
        {
          "output_type": "execute_result",
          "execution_count": 22,
          "data": {
            "text/plain": "array([2286.76085318, 2276.68843426, 2220.10862363, 2099.32134941,\n       2194.50233947, 2325.05753711, 3722.69478112, 2239.25636633,\n       3833.86906984, 1782.87451295, 1737.19716603, 2573.85439214,\n       1823.12720518, 1821.36927729, 3055.68402186, 2123.36309677,\n       2243.58064706, 1861.58118168, 2600.18884131, 4685.5255173 ,\n       2468.626059  , 1933.59582719, 2526.36045527, 2255.62437574,\n       2190.73463917, 1557.13210109, 3530.34128152, 2124.34897171,\n       1670.03450509, 2569.13374254, 1399.78501493, 1584.45241363,\n       1872.32257612, 2440.55365196, 1359.13158994, 2415.47824557,\n       6310.58915843, 1951.97774231])"
          },
          "metadata": {}
        }
      ],
      "execution_count": 22,
      "metadata": {
        "collapsed": true,
        "jupyter": {
          "source_hidden": false,
          "outputs_hidden": false
        },
        "nteract": {
          "transient": {
            "deleting": false
          }
        },
        "execution": {
          "iopub.status.busy": "2020-11-18T19:13:00.318Z",
          "iopub.execute_input": "2020-11-18T19:13:00.330Z",
          "iopub.status.idle": "2020-11-18T19:13:00.353Z",
          "shell.execute_reply": "2020-11-18T19:13:00.362Z"
        }
      }
    },
    {
      "cell_type": "code",
      "source": [
        "with open(data_path+'bonamente_add.txt', 'r') as filein:\n",
        "    original_lines = filein.readlines()\n",
        "\n",
        "print original_lines[2]\n",
        "print len(lines[4:])\n",
        "print original_lines[4]\n",
        "\n",
        "original_lines[2] = original_lines[2].rstrip('\\n')\n",
        "original_lines[2] += '   R_vir [arcsec; {}xbackground w/ h={}; Omega_Lambda={}]\\n'.format(bigger, h_mean, OmL)\n",
        "\n",
        "print original_lines[2]\n",
        "\n",
        "data = original_lines[4:]\n",
        "new_data = []\n",
        "\n",
        "for i, line in enumerate(data):\n",
        "    line = line.rstrip('\\n')\n",
        "    line += '    {:2}\\n'.format(round(Rvirs_cls[i],2))\n",
        "    \n",
        "    new_data.append(line)\n",
        "\n",
        "new_lines = [ pre_line for pre_line in original_lines[:4] ]\n",
        "\n",
        "for line in new_data:\n",
        "    new_lines.append(line)\n",
        "\n",
        "with open(data_path+'add.txt', 'w') as file_out:\n",
        "    file_out.writelines(new_lines)"
      ],
      "outputs": [
        {
          "output_type": "stream",
          "name": "stdout",
          "text": [
            "# cluster name        z   DA [Mpc]  +err    -err    ne0 [cm^-3]     ne0_err     beta    beta_err     rc_out [arcsec]      rc_out_err     f   f_err   rc_in [arcsec]   rc_in_err     N [1.e-25 g cm^-3]      N_err   rs  [arcsec]    rs_err\n",
            "\n",
            "38\n",
            "Abell 1413          0.142   780.    180.    -130.   3.66e-2     0.535e-2    0.531   0.016   39.3    4.1    0.76     0.02   6.5  1.4     0.47    0.425   121.     49.\n",
            "\n",
            "# cluster name        z   DA [Mpc]  +err    -err    ne0 [cm^-3]     ne0_err     beta    beta_err     rc_out [arcsec]      rc_out_err     f   f_err   rc_in [arcsec]   rc_in_err     N [1.e-25 g cm^-3]      N_err   rs  [arcsec]    rs_err   R_vir [arcsec; 200.0xbackground w/ h=0.715; Omega_Lambda=0.69]\n",
            "\n"
          ]
        }
      ],
      "execution_count": 23,
      "metadata": {
        "collapsed": true,
        "jupyter": {
          "source_hidden": false,
          "outputs_hidden": false
        },
        "nteract": {
          "transient": {
            "deleting": false
          }
        },
        "execution": {
          "iopub.status.busy": "2020-11-18T19:13:01.182Z",
          "iopub.execute_input": "2020-11-18T19:13:01.192Z",
          "iopub.status.idle": "2020-11-18T19:13:01.293Z",
          "shell.execute_reply": "2020-11-18T19:13:01.299Z"
        }
      }
    },
    {
      "cell_type": "code",
      "source": [
        "R_vir_read_cls = np.array([])\n",
        "\n",
        "with open(data_path+'add.txt', 'r') as filein:\n",
        "  for i, line in enumerate(filein):\n",
        "    if line.strip() and line.find('#') == -1:\n",
        "      this_line = line.split()\n",
        "      \n",
        "      R_vir_read_cls = np.append(R_vir_read_cls, float(this_line[20]))"
      ],
      "outputs": [],
      "execution_count": 24,
      "metadata": {
        "collapsed": true,
        "jupyter": {
          "source_hidden": false,
          "outputs_hidden": false
        },
        "nteract": {
          "transient": {
            "deleting": false
          }
        },
        "execution": {
          "iopub.status.busy": "2020-11-18T19:13:09.987Z",
          "iopub.execute_input": "2020-11-18T19:13:09.995Z",
          "iopub.status.idle": "2020-11-18T19:13:10.006Z",
          "shell.execute_reply": "2020-11-18T19:13:10.014Z"
        }
      }
    },
    {
      "cell_type": "code",
      "source": [
        "R_vir_read_cls/Rvirs_cls"
      ],
      "outputs": [
        {
          "output_type": "execute_result",
          "execution_count": 25,
          "data": {
            "text/plain": "array([1.00000703, 1.00000362, 0.99999372, 0.99999605, 1.00000309,\n       0.99999637, 1.00000375, 0.99999398, 0.99999714, 1.000002  ,\n       0.99999404, 0.99999477, 0.99999208, 1.00000591, 1.00000544,\n       1.00000211, 1.00000578, 0.99999927, 1.00000364, 0.99999947,\n       0.9999973 , 1.00000108, 0.99999875, 0.99999672, 1.0000012 ,\n       0.99999891, 0.99999923, 0.99999446, 1.0000109 , 0.99998816,\n       1.00001148, 0.99999275, 0.99999805, 0.99998982, 1.00004811,\n       1.00000933, 1.00000403, 0.99999923])"
          },
          "metadata": {}
        }
      ],
      "execution_count": 25,
      "metadata": {
        "collapsed": true,
        "jupyter": {
          "source_hidden": false,
          "outputs_hidden": false
        },
        "nteract": {
          "transient": {
            "deleting": false
          }
        },
        "execution": {
          "iopub.status.busy": "2020-11-18T19:13:10.403Z",
          "iopub.execute_input": "2020-11-18T19:13:10.412Z",
          "iopub.status.idle": "2020-11-18T19:13:10.427Z",
          "shell.execute_reply": "2020-11-18T19:13:10.434Z"
        }
      }
    }
  ],
  "metadata": {
    "kernel_info": {
      "name": "python3"
    },
    "kernelspec": {
      "display_name": "Python 2",
      "language": "python",
      "name": "python2"
    },
    "language_info": {
      "mimetype": "text/x-python",
      "nbconvert_exporter": "python",
      "name": "python",
      "pygments_lexer": "ipython2",
      "version": "2.7.16",
      "file_extension": ".py",
      "codemirror_mode": {
        "version": 2,
        "name": "ipython"
      }
    },
    "nteract": {
      "version": "0.26.0"
    }
  },
  "nbformat": 4,
  "nbformat_minor": 2
}